{
 "cells": [
  {
   "cell_type": "code",
   "execution_count": null,
   "metadata": {
    "colab": {
     "base_uri": "https://localhost:8080/",
     "height": 124
    },
    "colab_type": "code",
    "executionInfo": {
     "elapsed": 33217,
     "status": "ok",
     "timestamp": 1586890187018,
     "user": {
      "displayName": "Farzad Yousefi",
      "photoUrl": "",
      "userId": "17223507942772645910"
     },
     "user_tz": -270
    },
    "id": "ZM9htw_eL-3F",
    "outputId": "38cbfbf1-1b22-45d3-f820-551c89b5d40e"
   },
   "outputs": [],
   "source": [
    "from google.colab import drive\n",
    "drive.mount(\"/content/gdrive/\")"
   ]
  },
  {
   "cell_type": "code",
   "execution_count": null,
   "metadata": {
    "colab": {
     "base_uri": "https://localhost:8080/",
     "height": 367
    },
    "colab_type": "code",
    "executionInfo": {
     "elapsed": 13010,
     "status": "ok",
     "timestamp": 1586890220008,
     "user": {
      "displayName": "Farzad Yousefi",
      "photoUrl": "",
      "userId": "17223507942772645910"
     },
     "user_tz": -270
    },
    "id": "GhD5ZSTMMCz5",
    "outputId": "d9480187-4da9-4ee9-d0cc-ed91d433f8ca"
   },
   "outputs": [],
   "source": [
    "%cd /content/gdrive/My\\ Drive/work_space/NLP/NLP_Mark3\n",
    "%pip install persian\n",
    "%pip install import_ipynb\n",
    "import import_ipynb"
   ]
  },
  {
   "cell_type": "code",
   "execution_count": null,
   "metadata": {
    "colab": {
     "base_uri": "https://localhost:8080/",
     "height": 69
    },
    "colab_type": "code",
    "executionInfo": {
     "elapsed": 3231,
     "status": "ok",
     "timestamp": 1586890225465,
     "user": {
      "displayName": "Farzad Yousefi",
      "photoUrl": "",
      "userId": "17223507942772645910"
     },
     "user_tz": -270
    },
    "id": "HrdViOTSOhzG",
    "outputId": "0fa0c7a6-0880-438d-8e20-d87ff1fb1943"
   },
   "outputs": [],
   "source": [
    "from Satida.Layers import ReaderXML,Tokenizer,StopWord,Dictionary,Replacement,Compress,Posting,PostingCompress\n",
    "from Satida.BTtree import BTree\n",
    "from Satida.Models import Sequential\n",
    "\n",
    "\n",
    "with open(\"Source/stop_word.txt\",\"r\") as file:\n",
    "    temp=file.readlines()\n",
    "    stop_words=list()\n",
    "    for sw in temp:\n",
    "        stop_words.append(sw.replace(\"\\n\",\"\"))\n",
    " "
   ]
  },
  {
   "cell_type": "code",
   "execution_count": null,
   "metadata": {
    "colab": {
     "base_uri": "https://localhost:8080/",
     "height": 208
    },
    "colab_type": "code",
    "executionInfo": {
     "elapsed": 6168,
     "status": "ok",
     "timestamp": 1586890233857,
     "user": {
      "displayName": "Farzad Yousefi",
      "photoUrl": "",
      "userId": "17223507942772645910"
     },
     "user_tz": -270
    },
    "id": "UhPBoo9OL7ZC",
    "outputId": "526e4981-5742-4049-d8ae-050239533cfd"
   },
   "outputs": [],
   "source": [
    "\n",
    "model = Sequential()\n",
    "model.add(ReaderXML([\"Source/NewXML1.xml\"],[ \"TEXT\" ]))\n",
    "model.add(Tokenizer())\n",
    "model.add(StopWord(stop_words))\n",
    "model.add(Dictionary())\n",
    "model.add(Replacement())\n",
    "model.add(Posting())\n",
    "model.add(PostingCompress(\"Gama\"))\n",
    "model.add(Compress(\"Full\"))\n",
    "model.add(BTree(\"Full\"))\n",
    "\n",
    "\n"
   ]
  },
  {
   "cell_type": "code",
   "execution_count": null,
   "metadata": {
    "colab": {
     "base_uri": "https://localhost:8080/",
     "height": 590
    },
    "colab_type": "code",
    "executionInfo": {
     "elapsed": 23913,
     "status": "ok",
     "timestamp": 1578663171206,
     "user": {
      "displayName": "Farzad Yousefi",
      "photoUrl": "",
      "userId": "17223507942772645910"
     },
     "user_tz": -210
    },
    "id": "1NRfCPHnPG_O",
    "outputId": "62df405e-2539-4e6c-9d8b-61f501c83100"
   },
   "outputs": [],
   "source": [
    "model.fit()"
   ]
  },
  {
   "cell_type": "code",
   "execution_count": null,
   "metadata": {
    "colab": {
     "base_uri": "https://localhost:8080/",
     "height": 1000
    },
    "colab_type": "code",
    "executionInfo": {
     "elapsed": 1300,
     "status": "ok",
     "timestamp": 1578663346891,
     "user": {
      "displayName": "Farzad Yousefi",
      "photoUrl": "",
      "userId": "17223507942772645910"
     },
     "user_tz": -210
    },
    "id": "FkQxVIt0bFyp",
    "outputId": "35f3a5d0-9aac-40b6-d133-2aa7def44575"
   },
   "outputs": [],
   "source": [
    "x=model.Search(\"وزارت را ارشاد\")\n"
   ]
  }
 ],
 "metadata": {
  "colab": {
   "collapsed_sections": [],
   "name": "Main.ipynb",
   "provenance": []
  },
  "kernelspec": {
   "display_name": "Python 3",
   "language": "python",
   "name": "python3"
  },
  "language_info": {
   "codemirror_mode": {
    "name": "ipython",
    "version": 3
   },
   "file_extension": ".py",
   "mimetype": "text/x-python",
   "name": "python",
   "nbconvert_exporter": "python",
   "pygments_lexer": "ipython3",
   "version": "3.7.3"
  }
 },
 "nbformat": 4,
 "nbformat_minor": 1
}
