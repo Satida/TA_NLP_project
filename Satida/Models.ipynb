{
 "cells": [
  {
   "cell_type": "code",
   "execution_count": null,
   "metadata": {},
   "outputs": [],
   "source": [
    "#!/usr/bin/env python3\n",
    "# -*- coding: utf-8 -*-\n",
    "\"\"\"\n",
    "Created on Wed Dec 18 06:40:50 2019\n",
    "\n",
    "@author: satida\n",
    "\"\"\"\n",
    "\n",
    "def Sequential():\n",
    "    \"\"\"\n",
    "    Satida.Models.Sequential()\n",
    "    ---------------------------\n",
    "    \\n\n",
    "    \\n\n",
    "    It is a environment for create a Sequential  NLP tasks .\\n\n",
    "    You can easily create a queue of tasks and run it via fit method.\n",
    "    every task (layers) is a object from Satida.Layers . \n",
    "    \n",
    "    Example:\n",
    "    ----------\n",
    "    \n",
    "    ---> model=Sequential() \n",
    "    \\n\n",
    "    ---> model.add(ReadXMl(.... , ....))\n",
    "    \n",
    "    ---> model.fit()\n",
    "    \n",
    "    \n",
    "    \"\"\"\n",
    "    from .models.Sequential import Sequential as sqt\n",
    "    return sqt()"
   ]
  }
 ],
 "metadata": {},
 "nbformat": 4,
 "nbformat_minor": 2
}
