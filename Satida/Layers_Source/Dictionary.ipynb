{
 "cells": [
  {
   "cell_type": "code",
   "execution_count": null,
   "metadata": {},
   "outputs": [],
   "source": [
    "#!/usr/bin/env python3\n",
    "# -*- coding: utf-8 -*-\n",
    "\"\"\"\n",
    "Created on Wed Dec 11 02:49:26 2019\n",
    "\n",
    "@author: satida\n",
    "\"\"\"\n",
    "from Utils.Utils import SortFa\n",
    "\n",
    "class Dictionary:\n",
    "    \n",
    "    def execute(self,tokens:list):\n",
    "        if type(tokens)!=list or type(tokens[0])!=str:\n",
    "            raise Exception('arg must be a list of str!\\n \\\" Type Checking Error.\\\"')\n",
    "        return SortFa(list(set(tokens)))\n",
    "            "
   ]
  }
 ],
 "metadata": {},
 "nbformat": 4,
 "nbformat_minor": 2
}
